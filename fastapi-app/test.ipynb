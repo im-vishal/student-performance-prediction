{
 "cells": [
  {
   "cell_type": "code",
   "execution_count": 16,
   "metadata": {},
   "outputs": [],
   "source": [
    "with open(\"test.txt\", \"r\") as file:\n",
    "    content1 = file.read()\n",
    "\n",
    "with open(\"../requirements.txt\", 'r') as file1:\n",
    "    content2 = file1.read()"
   ]
  },
  {
   "cell_type": "code",
   "execution_count": 24,
   "metadata": {},
   "outputs": [],
   "source": [
    "k = []\n",
    "for i in content1.split():\n",
    "    for j in content2.split():\n",
    "        if i[:4] == j[:4]:\n",
    "            k.append(j)\n",
    "with open(\"requirements.txt\", 'w') as newfile:\n",
    "    newfile.write((\"\\n\".join(k)))"
   ]
  },
  {
   "cell_type": "code",
   "execution_count": null,
   "metadata": {},
   "outputs": [],
   "source": []
  }
 ],
 "metadata": {
  "kernelspec": {
   "display_name": ".venv",
   "language": "python",
   "name": "python3"
  },
  "language_info": {
   "codemirror_mode": {
    "name": "ipython",
    "version": 3
   },
   "file_extension": ".py",
   "mimetype": "text/x-python",
   "name": "python",
   "nbconvert_exporter": "python",
   "pygments_lexer": "ipython3",
   "version": "3.12.5"
  }
 },
 "nbformat": 4,
 "nbformat_minor": 2
}
